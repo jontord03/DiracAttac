{
 "cells": [
  {
   "cell_type": "markdown",
   "metadata": {},
   "source": [
    "# Grover's Algorithm\n",
    "\n",
    "### Three Components\n",
    "1. Create superposition of 2<sup>n</sup> basis states: \n",
    "    * How? apply (H) gate on each qubit \n",
    "    * each qubit in state: $\\vert0\\rangle^{\\otimes n}$ \n",
    "    * $\\otimes n$ means a tensor product of states of n qubits\n",
    "2. Apply an Oracle operator\n",
    "    * Oracle operator? applies coefficient -1 to each marked element\n",
    "    * Why? Allows us to single out elements that we want to know the probability distribution for\n",
    "3. Apply a Diffusion operator\n",
    "    * inverts amplitude of all elements \n",
    "    * in relation to average overall amplitude\n",
    "\n",
    "Then: \n",
    "1. Put all the components together\n",
    "2. Apply Oracle and Diffusion operators $O(\\sqrt{N = 2^n}))$ times\n",
    "\n",
    "What does Grover's algorithm do? \n",
    "* determines probability of elements marked by Oracle operator\n",
    "\n",
    "### AIM\n",
    "1. Implement Grovers algorithm with a quantum circuit\n",
    "2. Mark elements $000001$ and $101010$ \n",
    "3. Determine the probilities of those elements with high probability"
   ]
  },
  {
   "cell_type": "code",
   "execution_count": 1,
   "metadata": {},
   "outputs": [],
   "source": [
    "%pip install -U -r resources/requirements.txt\n",
    "\n",
    "from IPython.display import clear_output\n",
    "clear_output()"
   ]
  },
  {
   "cell_type": "markdown",
   "metadata": {},
   "source": [
    "## Phase Oracle Guidelines\n",
    "\n",
    "1. add phase of -1 to all marked elements\n",
    "2. create identity matrix $2^n$ \n",
    "3. change diagonal elements to -1 for desired elements\n",
    "4. convert unitary matrix --> operator"
   ]
  },
  {
   "cell_type": "code",
   "execution_count": 156,
   "metadata": {},
   "outputs": [],
   "source": [
    "# PHASE ORACLE\n",
    "from qiskit.quantum_info import Operator\n",
    "from qiskit import QuantumCircuit\n",
    "import numpy as np\n",
    "\n",
    "# first arg: (n) gives number of qubits in circuit \n",
    "# second arg: (indices_to_mark) indices of elements that will be marked -1\n",
    "\n",
    "# AIM: mark elements of 2^n x 2^n identity matrix \n",
    "# DISCLAIMER: I didn't know about np.identity\n",
    "\n",
    "# ORIGINAL ATTEMPT (doesn't work) \n",
    "# def createMatrix(n, indices_to_mark):\n",
    "#     matrix = []\n",
    "#     for x in range (2**n): # each row\n",
    "#         matrix.append([])\n",
    "#         for y in range (2**n): # each item in row x \n",
    "#             matrix[x].append(0)\n",
    "#     for index in indices_to_mark: # each item in indices_to_mark\n",
    "#         for i in range (2**n): # each row\n",
    "#             if (index >= i*(2**n - 1) and i <= (i+1)*(2**n - 1) and \n",
    "#             (index % (2**n - 1)) != 0):\n",
    "#                 currentRowIndex = index % (2**n)\n",
    "#                 matrix[i][currentRowIndex] = -1\n",
    "#             elif (index % (2**n - 1) == 0 and index != 0): \n",
    "#                 matrix[i][3] = -1\n",
    "#             elif (index == 0):\n",
    "#                 matrix[i][0] = -1\n",
    "#     return matrix\n",
    "# print(createMatrix(2, [1, 4]))\n",
    "\n",
    "# TEST FUNCTION\n",
    "def createMatrix(n, indices_to_mark):\n",
    "    matrix = []\n",
    "    for x in range (2**n): # each row\n",
    "        matrix.append([])\n",
    "        for y in range (2**n): # each item in row x \n",
    "            if (y == x): \n",
    "                matrix[x].append(1)\n",
    "            else: \n",
    "                matrix[x].append(0)\n",
    "\n",
    "    # OPTIMAL SOLUTION\n",
    "    for index in indices_to_mark: \n",
    "        # let index = 11\n",
    "        row = index // (2**n) # 11 / 4 = 2 --> like floor \n",
    "        col = index % (2**n) # 11 % 4 = 3\n",
    "        matrix[row][col] = -1\n",
    "    return matrix\n",
    "# print(createMatrix(2, [1, 5]))\n",
    "\n",
    "    # NAIVE APPROACH\n",
    "    # flattened = []\n",
    "    # for row in matrix: \n",
    "    #     for x in row: \n",
    "    #         flattened.append(x)\n",
    "    # for index in indices_to_mark: \n",
    "    #     flattened[index] = -1\n",
    "\n",
    "    # newMatrix = np.reshape(flattened, (2**n, 2**n))\n",
    "    # return newMatrix\n",
    "# print(createMatrix(2, [1, 3, 4]))\n",
    "\n",
    "# QUANTUM FUNCTION\n",
    "def phase_oracle(n, indices_to_mark, name = \"Oracle\"): \n",
    "    # qc = QuantumCircuit(n, name=name)\n",
    "    # # create 2^n x 2^n oracle matrix\n",
    "    # # set elements at indices_to_mark to -1, others to 0\n",
    "\n",
    "    # MY/PRESTON'S SOLUTION --> returns size error during implementation\n",
    "    \n",
    "    # oracle_matrix = []\n",
    "    # for x in range (2**n): # each row\n",
    "    #     oracle_matrix.append([])\n",
    "    #     for y in range (2**n): # each item in row x \n",
    "    #         if (y == x): \n",
    "    #             oracle_matrix[x].append(1)\n",
    "    #         else: \n",
    "    #             oracle_matrix[x].append(0)\n",
    "    # for index in indices_to_mark: \n",
    "    #     row = index // (2**n)\n",
    "    #     col = index % (2**n)\n",
    "    #     oracle_matrix[row][col] = -1\n",
    "    # # return oracle_matrix; \n",
    "    # qc.unitary(Operator(oracle_matrix), range(n))\n",
    "\n",
    "    # OFFICIAL SOLUTION \n",
    "    \n",
    "    qc = QuantumCircuit(n, name=name)\n",
    "    oracle_matrix = np.identity(2**n)\n",
    "    for index_to_mark in indices_to_mark:\n",
    "        oracle_matrix[index_to_mark, index_to_mark] = -1 # np row, col\n",
    "    qc.unitary(Operator(oracle_matrix), range(n))\n",
    "    return qc"
   ]
  },
  {
   "cell_type": "markdown",
   "metadata": {},
   "source": [
    "# Diffusion Operator\n",
    "\n",
    "* create a circuit with a Hadamard gate on each qubit\n",
    "* sandwich the phase_oracle operator in the circuit between another Hadamard gate on each qubit\n",
    "\n",
    "This will invert the amplitude of all the qubits in relation to their average amplitude. \n"
   ]
  },
  {
   "cell_type": "code",
   "execution_count": 157,
   "metadata": {},
   "outputs": [
    {
     "data": {
      "image/png": "[encoded data removed]",
      "text/plain": [
       "<Figure size 381.577x204.68 with 1 Axes>"
      ]
     },
     "execution_count": 157,
     "metadata": {},
     "output_type": "execute_result"
    }
   ],
   "source": [
    "def diffuser(n): \n",
    "    circuit = QuantumCircuit(n, name=\"Diffuser\")\n",
    "    circuit.h(range(n)) # add hadamard on each qubit\n",
    "    circuit.append(phase_oracle(n, [0]), range(n)) # create \n",
    "    circuit.h(range(n)) # add hadamard on each qubit\n",
    "    return circuit\n",
    "\n",
    "# test with 3^3\n",
    "diffuser(3).draw(\"mpl\")"
   ]
  },
  {
   "cell_type": "markdown",
   "metadata": {},
   "source": [
    "# Grover's Algorithm\n",
    "\n"
   ]
  },
  {
   "cell_type": "code",
   "execution_count": 158,
   "metadata": {},
   "outputs": [
    {
     "name": "stdout",
     "output_type": "stream",
     "text": [
      "6 qubits, basis states [1, 42] marked, 4 rounds\n"
     ]
    },
    {
     "data": {
      "image/png": "[encoded data removed]",
      "text/plain": [
       "<Figure size 1525.38x445.48 with 1 Axes>"
      ]
     },
     "execution_count": 158,
     "metadata": {},
     "output_type": "execute_result"
    }
   ],
   "source": [
    "def Grover(n, indices_of_marked_elements):\n",
    "    \n",
    "    # Create a quantum circuit on n qubits\n",
    "    qc = QuantumCircuit(n, n)\n",
    "    \n",
    "    # Determine r\n",
    "    r = int(np.floor(np.pi/4*np.sqrt(2**n/len(indices_of_marked_elements))))\n",
    "    print(f'{n} qubits, basis states {indices_of_marked_elements} marked, {r} rounds')\n",
    "    \n",
    "    # step 1: apply Hadamard gates on all qubits\n",
    "    qc.h(range(n))\n",
    "    \n",
    "    # step 2: apply r rounds of the phase oracle and the diffuser\n",
    "    for _ in range(r):\n",
    "        qc.append(phase_oracle(n, indices_of_marked_elements), range(n))\n",
    "        qc.append(diffuser(n), range(n))\n",
    "        \n",
    "    # step 3: measure all qubits\n",
    "    qc.measure(range(n), range(n))\n",
    "  \n",
    "    return qc\n",
    "\n",
    "mycircuit = Grover(6, [1, 42])\n",
    "mycircuit.draw(\"mpl\")"
   ]
  },
  {
   "cell_type": "code",
   "execution_count": 159,
   "metadata": {},
   "outputs": [
    {
     "data": {
      "image/png": "[encoded data removed]",
      "text/plain": [
       "<Figure size 504x360 with 1 Axes>"
      ]
     },
     "execution_count": 159,
     "metadata": {},
     "output_type": "execute_result"
    }
   ],
   "source": [
    "from qiskit import Aer, execute\n",
    "simulator = Aer.get_backend('qasm_simulator')\n",
    "counts = execute(mycircuit, backend=simulator, shots=1000).result().get_counts(mycircuit)\n",
    "from qiskit.visualization import plot_histogram\n",
    "plot_histogram(counts)"
   ]
  },
  {
   "cell_type": "code",
   "execution_count": null,
   "metadata": {},
   "outputs": [],
   "source": []
  }
 ],
 "metadata": {
  "kernelspec": {
   "display_name": "Python 3.7.1 64-bit",
   "language": "python",
   "name": "python3"
  },
  "language_info": {
   "codemirror_mode": {
    "name": "ipython",
    "version": 3
   },
   "file_extension": ".py",
   "mimetype": "text/x-python",
   "name": "python",
   "nbconvert_exporter": "python",
   "pygments_lexer": "ipython3",
   "version": "3.7.1"
  },
  "orig_nbformat": 4,
  "vscode": {
   "interpreter": {
    "hash": "aee8b7b246df8f9039afb4144a1f6fd8d2ca17a180786b69acc140d282b71a49"
   }
  }
 },
 "nbformat": 4,
 "nbformat_minor": 2
}
